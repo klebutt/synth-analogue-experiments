{
 "cells": [
  {
   "cell_type": "markdown",
   "id": "3d44b129",
   "metadata": {},
   "source": [
    "## 01.Setup and Imports"
   ]
  },
  {
   "cell_type": "code",
   "execution_count": null,
   "id": "87231949",
   "metadata": {},
   "outputs": [],
   "source": []
  },
  {
   "cell_type": "markdown",
   "id": "eab48eca",
   "metadata": {},
   "source": [
    "## 02.Model Overview"
   ]
  },
  {
   "cell_type": "code",
   "execution_count": null,
   "id": "daeb8afd",
   "metadata": {},
   "outputs": [],
   "source": []
  },
  {
   "cell_type": "markdown",
   "id": "1e09d7b4",
   "metadata": {},
   "source": [
    "## 03.Generate Predictions"
   ]
  },
  {
   "cell_type": "code",
   "execution_count": null,
   "id": "6580a1c3",
   "metadata": {},
   "outputs": [],
   "source": []
  },
  {
   "cell_type": "markdown",
   "id": "9bd244a2",
   "metadata": {},
   "source": [
    "## 04.Visualise Results"
   ]
  },
  {
   "cell_type": "code",
   "execution_count": null,
   "id": "174d9d7f",
   "metadata": {},
   "outputs": [],
   "source": []
  },
  {
   "cell_type": "markdown",
   "id": "1e58cbb4",
   "metadata": {},
   "source": [
    "## 05.CRPS Calculation"
   ]
  },
  {
   "cell_type": "code",
   "execution_count": null,
   "id": "6c39dbad",
   "metadata": {},
   "outputs": [],
   "source": []
  },
  {
   "cell_type": "markdown",
   "id": "3e3b90fd",
   "metadata": {},
   "source": [
    "## 06.Parameter Exploration"
   ]
  },
  {
   "cell_type": "code",
   "execution_count": null,
   "id": "cc36f85f",
   "metadata": {},
   "outputs": [],
   "source": []
  },
  {
   "cell_type": "markdown",
   "id": "1549babc",
   "metadata": {},
   "source": [
    "## 07.Summary"
   ]
  },
  {
   "cell_type": "markdown",
   "id": "93d1dd5b",
   "metadata": {},
   "source": []
  }
 ],
 "metadata": {
  "kernelspec": {
   "display_name": "Python 3 (ipykernel)",
   "language": "python",
   "name": "python3"
  },
  "language_info": {
   "codemirror_mode": {
    "name": "ipython",
    "version": 3
   },
   "file_extension": ".py",
   "mimetype": "text/x-python",
   "name": "python",
   "nbconvert_exporter": "python",
   "pygments_lexer": "ipython3",
   "version": "3.11.1"
  }
 },
 "nbformat": 4,
 "nbformat_minor": 5
}
