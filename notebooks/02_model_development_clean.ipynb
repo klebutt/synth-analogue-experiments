{
 "cells": [
  {
   "cell_type": "markdown",
   "metadata": {},
   "source": [
    "\n"
   ]
  },
  {
   "cell_type": "code",
   "execution_count": 1,
   "metadata": {},
   "outputs": [
    {
     "name": "stdout",
     "output_type": "stream",
     "text": [
      "🚀 Advanced Model Development Environment Ready!\n",
      "📁 Project root: C:\\Users\\klebu\\Synth STG 1\\synth-analogue-experiments\n",
      "🐍 Python path updated for advanced experiments\n"
     ]
    }
   ],
   "source": [
    "import sys\n",
    "import os\n",
    "import numpy as np\n",
    "import pandas as pd\n",
    "import matplotlib.pyplot as plt\n",
    "import seaborn as sns\n",
    "from datetime import datetime, timedelta\n",
    "from typing import List, Dict, Any, Tuple\n",
    "\n",
    "# Add project root to path\n",
    "notebook_dir = os.getcwd()\n",
    "project_root = os.path.dirname(notebook_dir)\n",
    "sys.path.insert(0, project_root)\n",
    "\n",
    "# Import our models and tools\n",
    "from models.baseline.random_walk import RandomWalkModel\n",
    "from models.baseline.geometric_brownian import GeometricBrownianModel\n",
    "from models.baseline.mean_reversion import MeanReversionModel\n",
    "from models.crps import CRPSCalculator, compare_models_crps\n",
    "\n",
    "print(\"🚀 Advanced Model Development Environment Ready!\")\n",
    "print(f\"📁 Project root: {project_root}\")\n",
    "print(f\"🐍 Python path updated for advanced experiments\")\n"
   ]
  },
  {
   "cell_type": "markdown",
   "metadata": {},
   "source": [
    "## 2. Ensemble Methods: Combining Multiple Models\n",
    "\n",
    "Ensemble methods combine predictions from multiple models to improve overall performance. This is a powerful technique for Synth subnet competition.\n"
   ]
  },
  {
   "cell_type": "code",
   "execution_count": 2,
   "metadata": {},
   "outputs": [
    {
     "name": "stdout",
     "output_type": "stream",
     "text": [
      "✅ Ensemble model class created!\n"
     ]
    }
   ],
   "source": [
    "class EnsembleModel:\n",
    "    def __init__(self, models: Dict[str, Any], weights: List[float] = None):\n",
    "        self.models = models\n",
    "        self.weights = weights or [1.0/len(models)] * len(models)\n",
    "        self.name = \"Ensemble Model\"\n",
    "        \n",
    "    def predict(self, start_price: float, start_time: datetime, \n",
    "                time_increment: int, time_horizon: int, \n",
    "                num_simulations: int = 100) -> List[List[Dict[str, Any]]]:\n",
    "        \"\"\"Generate ensemble predictions by combining multiple models\"\"\"\n",
    "        \n",
    "        all_predictions = []\n",
    "        num_steps = int(time_horizon / time_increment)\n",
    "        \n",
    "        for sim in range(num_simulations):\n",
    "            simulation_predictions = []\n",
    "            \n",
    "            # Generate predictions for each time step (including start time)\n",
    "            for step in range(num_steps + 1):  # +1 to include start time, matching baseline models\n",
    "                current_time = start_time + timedelta(seconds=step * time_increment)\n",
    "                \n",
    "                if step == 0:\n",
    "                    # Start time - use the actual start price\n",
    "                    simulation_predictions.append({\n",
    "                        'time': current_time.isoformat(),\n",
    "                        'price': start_price\n",
    "                    })\n",
    "                else:\n",
    "                    # Future time steps - get predictions from each model\n",
    "                    model_predictions = []\n",
    "                    for model_name, model in self.models.items():\n",
    "                        # Get prediction for this specific time step\n",
    "                        pred = model.predict(start_price, start_time, \n",
    "                                          time_increment, time_horizon, 1)\n",
    "                        if pred and pred[0] and len(pred[0]) > step:\n",
    "                            model_predictions.append(pred[0][step]['price'])\n",
    "                    \n",
    "                    if model_predictions:\n",
    "                        # Weighted average of predictions\n",
    "                        weighted_price = sum(p * w for p, w in zip(model_predictions, self.weights[:len(model_predictions)]))\n",
    "                        \n",
    "                        simulation_predictions.append({\n",
    "                            'time': current_time.isoformat(),\n",
    "                            'price': max(0.01, weighted_price)  # Ensure positive price\n",
    "                        })\n",
    "            \n",
    "            if simulation_predictions:\n",
    "                all_predictions.append(simulation_predictions)\n",
    "        \n",
    "        return all_predictions\n",
    "    \n",
    "    def get_model_info(self) -> Dict[str, Any]:\n",
    "        return {\n",
    "            'name': self.name,\n",
    "            'type': 'ensemble',\n",
    "            'description': f'Ensemble of {len(self.models)} models with weighted averaging',\n",
    "            'models': list(self.models.keys()),\n",
    "            'weights': self.weights\n",
    "        }\n",
    "\n",
    "print(\"✅ Ensemble model class created!\")\n"
   ]
  },
  {
   "cell_type": "markdown",
   "metadata": {},
   "source": [
    "## 3. Analog Computing: Fluid Dynamics Model\n",
    "\n",
    "Let's implement a real fluid dynamics model inspired by analog computing principles. This model simulates price movements as fluid flow in a complex system.\n"
   ]
  },
  {
   "cell_type": "code",
   "execution_count": 3,
   "metadata": {},
   "outputs": [
    {
     "name": "stdout",
     "output_type": "stream",
     "text": [
      "✅ Fluid Dynamics Model implemented!\n",
      "🌊 Using Navier-Stokes equations for price prediction\n"
     ]
    }
   ],
   "source": [
    "class FluidDynamicsModel:\n",
    "    def __init__(self, viscosity: float = 0.1, pressure_gradient: float = 0.001, \n",
    "                 turbulence: float = 0.02, boundary_conditions: str = 'periodic'):\n",
    "        self.viscosity = viscosity\n",
    "        self.pressure_gradient = pressure_gradient\n",
    "        self.turbulence = turbulence\n",
    "        self.boundary_conditions = boundary_conditions\n",
    "        self.name = \"Fluid Dynamics Model\"\n",
    "        \n",
    "    def _solve_navier_stokes(self, initial_velocity: float, time_steps: int) -> List[float]:\n",
    "        \"\"\"Solve simplified Navier-Stokes equations for price dynamics\"\"\"\n",
    "        \n",
    "        # Simplified 1D fluid dynamics simulation\n",
    "        velocities = [initial_velocity]\n",
    "        positions = [0.0]  # Price position in \"flow space\"\n",
    "        \n",
    "        dt = 0.01  # Time step for numerical integration\n",
    "        \n",
    "        for t in range(time_steps):\n",
    "            # Current state\n",
    "            v = velocities[-1]\n",
    "            x = positions[-1]\n",
    "            \n",
    "            # Navier-Stokes terms (simplified)\n",
    "            # dv/dt = -v * dv/dx + ν * d²v/dx² - ∇P/ρ + turbulence\n",
    "            convective = -v * (v / 100.0)  # Simplified spatial derivative\n",
    "            viscous = self.viscosity * (v / 50.0)  # Simplified second derivative\n",
    "            pressure = -self.pressure_gradient\n",
    "            turbulent = np.random.normal(0, self.turbulence)\n",
    "            \n",
    "            # Update velocity and position\n",
    "            new_v = v + dt * (convective + viscous + pressure + turbulent)\n",
    "            new_x = x + dt * new_v\n",
    "            \n",
    "            # Apply boundary conditions\n",
    "            if self.boundary_conditions == 'periodic':\n",
    "                new_x = new_x % 1000.0  # Periodic boundary\n",
    "            \n",
    "            velocities.append(max(0.01, new_v))  # Ensure positive velocity\n",
    "            positions.append(new_x)\n",
    "        \n",
    "        return positions\n",
    "    \n",
    "    def predict(self, start_price: float, start_time: datetime, \n",
    "                time_increment: int, time_horizon: int, \n",
    "                num_simulations: int = 100) -> List[List[Dict[str, Any]]]:\n",
    "        \"\"\"Generate fluid dynamics-based price predictions\"\"\"\n",
    "        \n",
    "        all_predictions = []\n",
    "        num_steps = int(time_horizon / time_increment)\n",
    "        \n",
    "        for sim in range(num_simulations):\n",
    "            # Initialize with random velocity based on start price\n",
    "            initial_velocity = start_price * 0.001 * np.random.normal(1, 0.1)\n",
    "            \n",
    "            # Solve fluid dynamics\n",
    "            flow_positions = self._solve_navier_stokes(initial_velocity, num_steps)\n",
    "            \n",
    "            # Convert flow positions to prices\n",
    "            simulation_predictions = []\n",
    "            \n",
    "            for step in range(num_steps + 1):  # +1 to include start time\n",
    "                current_time = start_time + timedelta(seconds=step * time_increment)\n",
    "                \n",
    "                if step == 0:\n",
    "                    # Start time - use actual start price\n",
    "                    price = start_price\n",
    "                else:\n",
    "                    # Map flow position to price using exponential transformation\n",
    "                    position = flow_positions[step - 1] if step - 1 < len(flow_positions) else 0\n",
    "                    price = start_price * np.exp(position / 1000.0)\n",
    "                    price = max(0.01, price)  # Ensure positive price\n",
    "                \n",
    "                simulation_predictions.append({\n",
    "                    'time': current_time.isoformat(),\n",
    "                    'price': price\n",
    "                })\n",
    "            \n",
    "            all_predictions.append(simulation_predictions)\n",
    "        \n",
    "        return all_predictions\n",
    "    \n",
    "    def get_model_info(self) -> Dict[str, Any]:\n",
    "        return {\n",
    "            'name': self.name,\n",
    "            'type': 'analog',\n",
    "            'description': 'Fluid dynamics model using Navier-Stokes equations',\n",
    "            'viscosity': self.viscosity,\n",
    "            'pressure_gradient': self.pressure_gradient,\n",
    "            'turbulence': self.turbulence,\n",
    "            'boundary_conditions': self.boundary_conditions\n",
    "        }\n",
    "\n",
    "print(\"✅ Fluid Dynamics Model implemented!\")\n",
    "print(\"🌊 Using Navier-Stokes equations for price prediction\")\n"
   ]
  },
  {
   "cell_type": "markdown",
   "metadata": {},
   "source": [
    "## 4. Model Comparison & Performance Analysis\n",
    "\n",
    "Let's compare all our models to see which performs best for Synth subnet competition.\n"
   ]
  },
  {
   "cell_type": "code",
   "execution_count": 4,
   "metadata": {},
   "outputs": [
    {
     "name": "stdout",
     "output_type": "stream",
     "text": [
      "🔬 Testing 6 models...\n",
      "==================================================\n",
      "📊 Generating predictions for Random Walk...\n",
      "   ✅ Generated 50 simulations\n",
      "📊 Generating predictions for GBM...\n",
      "   ✅ Generated 50 simulations\n",
      "📊 Generating predictions for Mean Reversion...\n",
      "   ✅ Generated 50 simulations\n",
      "📊 Generating predictions for Fluid Dynamics...\n",
      "   ✅ Generated 50 simulations\n",
      "📊 Generating predictions for Ensemble (Equal)...\n",
      "   ✅ Generated 50 simulations\n",
      "📊 Generating predictions for Ensemble (GBM-weighted)...\n",
      "   ✅ Generated 50 simulations\n",
      "\n",
      "🎯 Successfully generated predictions for 6 models\n"
     ]
    }
   ],
   "source": [
    "# Create all models for comparison\n",
    "models = {\n",
    "    'Random Walk': RandomWalkModel(volatility=0.02),\n",
    "    'GBM': GeometricBrownianModel(drift=0.001, volatility=0.02),\n",
    "    'Mean Reversion': MeanReversionModel(mean_price=50000.0, reversion_strength=0.1, volatility=0.02),\n",
    "    'Fluid Dynamics': FluidDynamicsModel(viscosity=0.1, pressure_gradient=0.001, turbulence=0.02),\n",
    "    'Ensemble (Equal)': EnsembleModel({\n",
    "        'RW': RandomWalkModel(volatility=0.02),\n",
    "        'GBM': GeometricBrownianModel(drift=0.001, volatility=0.02),\n",
    "        'MR': MeanReversionModel(mean_price=50000.0, reversion_strength=0.1, volatility=0.02)\n",
    "    }),\n",
    "    'Ensemble (GBM-weighted)': EnsembleModel({\n",
    "        'RW': RandomWalkModel(volatility=0.02),\n",
    "        'GBM': GeometricBrownianModel(drift=0.001, volatility=0.02),\n",
    "        'MR': MeanReversionModel(mean_price=50000.0, reversion_strength=0.1, volatility=0.02)\n",
    "    }, weights=[0.2, 0.5, 0.3])  # Give GBM more weight\n",
    "}\n",
    "\n",
    "print(f\"🔬 Testing {len(models)} models...\")\n",
    "print(\"=\" * 50)\n",
    "\n",
    "# Test parameters\n",
    "start_price = 50000.0\n",
    "start_time = datetime.now()\n",
    "time_increment = 3600  # 1 hour\n",
    "time_horizon = 86400   # 24 hours\n",
    "num_simulations = 50   # Reduced for faster testing\n",
    "\n",
    "# Generate predictions for all models\n",
    "all_predictions = {}\n",
    "for name, model in models.items():\n",
    "    print(f\"📊 Generating predictions for {name}...\")\n",
    "    try:\n",
    "        predictions = model.predict(start_price, start_time, time_increment, time_horizon, num_simulations)\n",
    "        all_predictions[name] = predictions\n",
    "        print(f\"   ✅ Generated {len(predictions)} simulations\")\n",
    "    except Exception as e:\n",
    "        print(f\"   ❌ Error: {e}\")\n",
    "\n",
    "print(f\"\\n🎯 Successfully generated predictions for {len(all_predictions)} models\")\n"
   ]
  },
  {
   "cell_type": "markdown",
   "metadata": {},
   "source": [
    "\n"
   ]
  },
  {
   "cell_type": "code",
   "execution_count": null,
   "metadata": {},
   "outputs": [
    {
     "name": "stdout",
     "output_type": "stream",
     "text": [
      "✅ Generated 25 actual data points\n",
      "   First time: 2025-09-07T10:24:07.386447\n",
      "   Last time: 2025-09-08T10:24:07.386447\n",
      "\n",
      "📊 Calculating CRPS scores for all models...\n",
      "==================================================\n",
      "✅ Random Walk: CRPS = 948.11\n",
      "✅ GBM: CRPS = 680.24\n",
      "✅ Mean Reversion: CRPS = 642.12\n"
     ]
    }
   ],
   "source": [
    "\n"
   ]
  },
  {
   "cell_type": "markdown",
   "metadata": {},
   "source": [
    "\n"
   ]
  },
  {
   "cell_type": "markdown",
   "metadata": {},
   "source": [
    "\n"
   ]
  },
  {
   "cell_type": "markdown",
   "metadata": {},
   "source": []
  }
 ],
 "metadata": {
  "kernelspec": {
   "display_name": "Python 3 (ipykernel)",
   "language": "python",
   "name": "python3"
  },
  "language_info": {
   "codemirror_mode": {
    "name": "ipython",
    "version": 3
   },
   "file_extension": ".py",
   "mimetype": "text/x-python",
   "name": "python",
   "nbconvert_exporter": "python",
   "pygments_lexer": "ipython3",
   "version": "3.11.1"
  }
 },
 "nbformat": 4,
 "nbformat_minor": 2
}
